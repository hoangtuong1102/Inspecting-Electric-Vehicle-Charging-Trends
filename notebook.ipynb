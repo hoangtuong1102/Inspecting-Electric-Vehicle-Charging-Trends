{
 "cells": [
  {
   "source": [
    "![Futuristic electric car charging](IMG_8807.png)"
   ],
   "metadata": {
    "pycharm": {
     "name": "#%% md\n"
    }
   },
   "cell_type": "markdown",
   "id": "3bfef1de-6cf3-4410-8c17-4d235deedff5"
  },
  {
   "source": [
    "The US Government's Alternative Fuels Data Center collects records of electric vehicle (EV) charging infrastructure, including charging ports and station locations, as well as sales of electric vehicles. With the EV market rapidly evolving, it's essential to understand the growth trends in charging facilities and sales to inform strategic planning. As a data scientist working for a leading EV charging network operator, you recognize the potential in this data and start wrangling and visualizing the aggregated yearly data. \n",
    "\n",
    "This yearly data captured in December of each year encompasses a record of EV charging port installations and station localities spanning roughly ten years, capturing both public and private charging environments. The data is stored in two CSV files:\n",
    "___\n",
    "\n",
    "`private_ev_charging.csv`\n",
    "\n",
    "| Variable   | Description                                          |\n",
    "|------------|------------------------------------------------------|\n",
    "| `year` |  Year of data collection |\n",
    "| `private_ports`| The number of available charging ports owned by private companies in a given year  |\n",
    "| `private_station_locations`   | The number of privately owned station locations for EV charging\n",
    "\n",
    "___\n",
    "\n",
    "`public_ev_charging.csv`\n",
    " \n",
    "| Variable   | Description                                          |\n",
    "|------------|------------------------------------------------------|\n",
    "| `year` |  Year of data collection  |\n",
    "| `public_ports`| The number of available charging ports under public ownership in a given year  |\n",
    "| `public_station_locations`   | The number of publicly owned station locations for EV charging\n",
    "\n",
    "___\n",
    "\n",
    "The sales information is available for each model and year in the `ev_sales.csv` file:\n",
    "\n",
    "| Variable   | Description                                          |\n",
    "|------------|------------------------------------------------------|\n",
    "| `Vehicle` |  Electric vehicle model |\n",
    "| `year`| Year of data collection |\n",
    "| `sales`   | The number of vehicles sold in the US"
   ],
   "metadata": {
    "pycharm": {
     "name": "#%% md\n"
    }
   },
   "cell_type": "markdown",
   "id": "d0e3f658-b4eb-44fe-ae85-76eeef3c4abd"
  },
  {
   "source": [
    "# Import required libraries\n",
    "import pandas as pd\n",
    "import matplotlib.pyplot as plt\n",
    "import seaborn as sns\n"
   ],
   "metadata": {
    "executionCancelledAt": null,
    "executionTime": 1132,
    "lastExecutedAt": 1699630272874,
    "lastScheduledRunId": null,
    "lastSuccessfullyExecutedCode": "# Import required libraries\nimport pandas as pd\nimport matplotlib.pyplot as plt\nimport seaborn as sns\n\n# Start your code here!",
    "pycharm": {
     "name": "#%%\n"
    }
   },
   "cell_type": "code",
   "id": "bff36b1c-38f2-4a2c-8e4e-3d357b56fa21",
   "execution_count": 1,
   "outputs": []
  },
  {
   "cell_type": "code",
   "execution_count": 2,
   "outputs": [],
   "source": [
    "private_ev_charging = pd.read_csv('private_ev_charging.csv')\n",
    "public_ev_charging = pd.read_csv('public_ev_charging.csv')\n",
    "ev_sales = pd.read_csv('ev_sales.csv')"
   ],
   "metadata": {
    "collapsed": false,
    "pycharm": {
     "name": "#%%\n"
    }
   }
  },
  {
   "cell_type": "code",
   "execution_count": 3,
   "outputs": [],
   "source": [
    "df_combined = private_ev_charging.merge(public_ev_charging, on='year', how='outer', indicator=True)"
   ],
   "metadata": {
    "collapsed": false,
    "pycharm": {
     "name": "#%%\n"
    }
   }
  },
  {
   "cell_type": "code",
   "execution_count": 3,
   "outputs": [],
   "source": [],
   "metadata": {
    "collapsed": false,
    "pycharm": {
     "name": "#%%\n"
    }
   }
  },
  {
   "cell_type": "code",
   "execution_count": 4,
   "outputs": [
    {
     "data": {
      "text/plain": "   year  private_ports  private_station_locations  public_ports  \\\n0  2014         3695.0                     1825.0         22470   \n1  2015         4150.0                     1962.0         26532   \n2  2016         5763.0                     2331.0         33165   \n3  2017         6048.0                     2370.0         45789   \n4  2018         6812.0                     2489.0         56842   \n5  2019         9955.0                     3078.0         73838   \n6  2020        10647.0                     2768.0         96190   \n7  2021        18867.0                     4074.0        114451   \n8  2022        19993.0                     4435.0        136513   \n\n   public_station_locations _merge  \n0                      9207   both  \n1                     10710   both  \n2                     13150   both  \n3                     16170   both  \n4                     19893   both  \n5                     23282   both  \n6                     28602   both  \n7                     46407   both  \n8                     53764   both  ",
      "text/html": "<div>\n<style scoped>\n    .dataframe tbody tr th:only-of-type {\n        vertical-align: middle;\n    }\n\n    .dataframe tbody tr th {\n        vertical-align: top;\n    }\n\n    .dataframe thead th {\n        text-align: right;\n    }\n</style>\n<table border=\"1\" class=\"dataframe\">\n  <thead>\n    <tr style=\"text-align: right;\">\n      <th></th>\n      <th>year</th>\n      <th>private_ports</th>\n      <th>private_station_locations</th>\n      <th>public_ports</th>\n      <th>public_station_locations</th>\n      <th>_merge</th>\n    </tr>\n  </thead>\n  <tbody>\n    <tr>\n      <th>0</th>\n      <td>2014</td>\n      <td>3695.0</td>\n      <td>1825.0</td>\n      <td>22470</td>\n      <td>9207</td>\n      <td>both</td>\n    </tr>\n    <tr>\n      <th>1</th>\n      <td>2015</td>\n      <td>4150.0</td>\n      <td>1962.0</td>\n      <td>26532</td>\n      <td>10710</td>\n      <td>both</td>\n    </tr>\n    <tr>\n      <th>2</th>\n      <td>2016</td>\n      <td>5763.0</td>\n      <td>2331.0</td>\n      <td>33165</td>\n      <td>13150</td>\n      <td>both</td>\n    </tr>\n    <tr>\n      <th>3</th>\n      <td>2017</td>\n      <td>6048.0</td>\n      <td>2370.0</td>\n      <td>45789</td>\n      <td>16170</td>\n      <td>both</td>\n    </tr>\n    <tr>\n      <th>4</th>\n      <td>2018</td>\n      <td>6812.0</td>\n      <td>2489.0</td>\n      <td>56842</td>\n      <td>19893</td>\n      <td>both</td>\n    </tr>\n    <tr>\n      <th>5</th>\n      <td>2019</td>\n      <td>9955.0</td>\n      <td>3078.0</td>\n      <td>73838</td>\n      <td>23282</td>\n      <td>both</td>\n    </tr>\n    <tr>\n      <th>6</th>\n      <td>2020</td>\n      <td>10647.0</td>\n      <td>2768.0</td>\n      <td>96190</td>\n      <td>28602</td>\n      <td>both</td>\n    </tr>\n    <tr>\n      <th>7</th>\n      <td>2021</td>\n      <td>18867.0</td>\n      <td>4074.0</td>\n      <td>114451</td>\n      <td>46407</td>\n      <td>both</td>\n    </tr>\n    <tr>\n      <th>8</th>\n      <td>2022</td>\n      <td>19993.0</td>\n      <td>4435.0</td>\n      <td>136513</td>\n      <td>53764</td>\n      <td>both</td>\n    </tr>\n  </tbody>\n</table>\n</div>"
     },
     "execution_count": 4,
     "metadata": {},
     "output_type": "execute_result"
    }
   ],
   "source": [
    "df_temp = df_combined[df_combined['_merge'] == 'both']\n",
    "df_temp"
   ],
   "metadata": {
    "collapsed": false,
    "pycharm": {
     "name": "#%%\n"
    }
   }
  },
  {
   "cell_type": "code",
   "execution_count": 5,
   "outputs": [],
   "source": [
    "df_temp = df_temp.drop(columns=['_merge'])"
   ],
   "metadata": {
    "collapsed": false,
    "pycharm": {
     "name": "#%%\n"
    }
   }
  },
  {
   "cell_type": "code",
   "execution_count": 6,
   "outputs": [
    {
     "data": {
      "text/plain": "   year     sales\n0  2011   17763.0\n1  2012   53171.0\n2  2013   97102.0\n3  2014  118882.0\n4  2015  114023.0\n5  2016  159616.0\n6  2017  195581.0\n7  2018  361315.0\n8  2019  326644.0",
      "text/html": "<div>\n<style scoped>\n    .dataframe tbody tr th:only-of-type {\n        vertical-align: middle;\n    }\n\n    .dataframe tbody tr th {\n        vertical-align: top;\n    }\n\n    .dataframe thead th {\n        text-align: right;\n    }\n</style>\n<table border=\"1\" class=\"dataframe\">\n  <thead>\n    <tr style=\"text-align: right;\">\n      <th></th>\n      <th>year</th>\n      <th>sales</th>\n    </tr>\n  </thead>\n  <tbody>\n    <tr>\n      <th>0</th>\n      <td>2011</td>\n      <td>17763.0</td>\n    </tr>\n    <tr>\n      <th>1</th>\n      <td>2012</td>\n      <td>53171.0</td>\n    </tr>\n    <tr>\n      <th>2</th>\n      <td>2013</td>\n      <td>97102.0</td>\n    </tr>\n    <tr>\n      <th>3</th>\n      <td>2014</td>\n      <td>118882.0</td>\n    </tr>\n    <tr>\n      <th>4</th>\n      <td>2015</td>\n      <td>114023.0</td>\n    </tr>\n    <tr>\n      <th>5</th>\n      <td>2016</td>\n      <td>159616.0</td>\n    </tr>\n    <tr>\n      <th>6</th>\n      <td>2017</td>\n      <td>195581.0</td>\n    </tr>\n    <tr>\n      <th>7</th>\n      <td>2018</td>\n      <td>361315.0</td>\n    </tr>\n    <tr>\n      <th>8</th>\n      <td>2019</td>\n      <td>326644.0</td>\n    </tr>\n  </tbody>\n</table>\n</div>"
     },
     "execution_count": 6,
     "metadata": {},
     "output_type": "execute_result"
    }
   ],
   "source": [
    "# Get total sales grouping by each year\n",
    "ev_total_sales = ev_sales.groupby('year')['sales'].sum().reset_index()\n",
    "ev_total_sales"
   ],
   "metadata": {
    "collapsed": false,
    "pycharm": {
     "name": "#%%\n"
    }
   }
  },
  {
   "cell_type": "code",
   "execution_count": 7,
   "outputs": [
    {
     "data": {
      "text/plain": "   year  private_ports  private_station_locations  public_ports  \\\n0  2014         3695.0                     1825.0         22470   \n1  2015         4150.0                     1962.0         26532   \n2  2016         5763.0                     2331.0         33165   \n3  2017         6048.0                     2370.0         45789   \n4  2018         6812.0                     2489.0         56842   \n5  2019         9955.0                     3078.0         73838   \n6  2020        10647.0                     2768.0         96190   \n7  2021        18867.0                     4074.0        114451   \n8  2022        19993.0                     4435.0        136513   \n\n   public_station_locations     sales  \n0                      9207  118882.0  \n1                     10710  114023.0  \n2                     13150  159616.0  \n3                     16170  195581.0  \n4                     19893  361315.0  \n5                     23282  326644.0  \n6                     28602       NaN  \n7                     46407       NaN  \n8                     53764       NaN  ",
      "text/html": "<div>\n<style scoped>\n    .dataframe tbody tr th:only-of-type {\n        vertical-align: middle;\n    }\n\n    .dataframe tbody tr th {\n        vertical-align: top;\n    }\n\n    .dataframe thead th {\n        text-align: right;\n    }\n</style>\n<table border=\"1\" class=\"dataframe\">\n  <thead>\n    <tr style=\"text-align: right;\">\n      <th></th>\n      <th>year</th>\n      <th>private_ports</th>\n      <th>private_station_locations</th>\n      <th>public_ports</th>\n      <th>public_station_locations</th>\n      <th>sales</th>\n    </tr>\n  </thead>\n  <tbody>\n    <tr>\n      <th>0</th>\n      <td>2014</td>\n      <td>3695.0</td>\n      <td>1825.0</td>\n      <td>22470</td>\n      <td>9207</td>\n      <td>118882.0</td>\n    </tr>\n    <tr>\n      <th>1</th>\n      <td>2015</td>\n      <td>4150.0</td>\n      <td>1962.0</td>\n      <td>26532</td>\n      <td>10710</td>\n      <td>114023.0</td>\n    </tr>\n    <tr>\n      <th>2</th>\n      <td>2016</td>\n      <td>5763.0</td>\n      <td>2331.0</td>\n      <td>33165</td>\n      <td>13150</td>\n      <td>159616.0</td>\n    </tr>\n    <tr>\n      <th>3</th>\n      <td>2017</td>\n      <td>6048.0</td>\n      <td>2370.0</td>\n      <td>45789</td>\n      <td>16170</td>\n      <td>195581.0</td>\n    </tr>\n    <tr>\n      <th>4</th>\n      <td>2018</td>\n      <td>6812.0</td>\n      <td>2489.0</td>\n      <td>56842</td>\n      <td>19893</td>\n      <td>361315.0</td>\n    </tr>\n    <tr>\n      <th>5</th>\n      <td>2019</td>\n      <td>9955.0</td>\n      <td>3078.0</td>\n      <td>73838</td>\n      <td>23282</td>\n      <td>326644.0</td>\n    </tr>\n    <tr>\n      <th>6</th>\n      <td>2020</td>\n      <td>10647.0</td>\n      <td>2768.0</td>\n      <td>96190</td>\n      <td>28602</td>\n      <td>NaN</td>\n    </tr>\n    <tr>\n      <th>7</th>\n      <td>2021</td>\n      <td>18867.0</td>\n      <td>4074.0</td>\n      <td>114451</td>\n      <td>46407</td>\n      <td>NaN</td>\n    </tr>\n    <tr>\n      <th>8</th>\n      <td>2022</td>\n      <td>19993.0</td>\n      <td>4435.0</td>\n      <td>136513</td>\n      <td>53764</td>\n      <td>NaN</td>\n    </tr>\n  </tbody>\n</table>\n</div>"
     },
     "execution_count": 7,
     "metadata": {},
     "output_type": "execute_result"
    }
   ],
   "source": [
    "# Left-join with sales\n",
    "df_complete = df_temp.merge(ev_total_sales, how='left', on='year')\n",
    "df_complete"
   ],
   "metadata": {
    "collapsed": false,
    "pycharm": {
     "name": "#%%\n"
    }
   }
  },
  {
   "cell_type": "code",
   "execution_count": 8,
   "outputs": [
    {
     "data": {
      "text/plain": "   year  private_ports  private_station_locations  public_ports  \\\n0  2014         3695.0                     1825.0         22470   \n1  2015         4150.0                     1962.0         26532   \n2  2016         5763.0                     2331.0         33165   \n3  2017         6048.0                     2370.0         45789   \n4  2018         6812.0                     2489.0         56842   \n5  2019         9955.0                     3078.0         73838   \n\n   public_station_locations     sales  \n0                      9207  118882.0  \n1                     10710  114023.0  \n2                     13150  159616.0  \n3                     16170  195581.0  \n4                     19893  361315.0  \n5                     23282  326644.0  ",
      "text/html": "<div>\n<style scoped>\n    .dataframe tbody tr th:only-of-type {\n        vertical-align: middle;\n    }\n\n    .dataframe tbody tr th {\n        vertical-align: top;\n    }\n\n    .dataframe thead th {\n        text-align: right;\n    }\n</style>\n<table border=\"1\" class=\"dataframe\">\n  <thead>\n    <tr style=\"text-align: right;\">\n      <th></th>\n      <th>year</th>\n      <th>private_ports</th>\n      <th>private_station_locations</th>\n      <th>public_ports</th>\n      <th>public_station_locations</th>\n      <th>sales</th>\n    </tr>\n  </thead>\n  <tbody>\n    <tr>\n      <th>0</th>\n      <td>2014</td>\n      <td>3695.0</td>\n      <td>1825.0</td>\n      <td>22470</td>\n      <td>9207</td>\n      <td>118882.0</td>\n    </tr>\n    <tr>\n      <th>1</th>\n      <td>2015</td>\n      <td>4150.0</td>\n      <td>1962.0</td>\n      <td>26532</td>\n      <td>10710</td>\n      <td>114023.0</td>\n    </tr>\n    <tr>\n      <th>2</th>\n      <td>2016</td>\n      <td>5763.0</td>\n      <td>2331.0</td>\n      <td>33165</td>\n      <td>13150</td>\n      <td>159616.0</td>\n    </tr>\n    <tr>\n      <th>3</th>\n      <td>2017</td>\n      <td>6048.0</td>\n      <td>2370.0</td>\n      <td>45789</td>\n      <td>16170</td>\n      <td>195581.0</td>\n    </tr>\n    <tr>\n      <th>4</th>\n      <td>2018</td>\n      <td>6812.0</td>\n      <td>2489.0</td>\n      <td>56842</td>\n      <td>19893</td>\n      <td>361315.0</td>\n    </tr>\n    <tr>\n      <th>5</th>\n      <td>2019</td>\n      <td>9955.0</td>\n      <td>3078.0</td>\n      <td>73838</td>\n      <td>23282</td>\n      <td>326644.0</td>\n    </tr>\n  </tbody>\n</table>\n</div>"
     },
     "execution_count": 8,
     "metadata": {},
     "output_type": "execute_result"
    }
   ],
   "source": [
    "df_complete = df_complete.dropna(subset=\"sales\")\n",
    "df_complete"
   ],
   "metadata": {
    "collapsed": false,
    "pycharm": {
     "name": "#%%\n"
    }
   }
  },
  {
   "cell_type": "code",
   "execution_count": 9,
   "outputs": [
    {
     "data": {
      "text/plain": "<Axes: xlabel='year', ylabel='private_ports'>"
     },
     "execution_count": 9,
     "metadata": {},
     "output_type": "execute_result"
    },
    {
     "data": {
      "text/plain": "<Figure size 640x480 with 1 Axes>",
      "image/png": "[encoded data removed]"
     },
     "metadata": {},
     "output_type": "display_data"
    }
   ],
   "source": [
    "# Create a figure and axis object\n",
    "fig, ax = plt.subplots()\n",
    "sns.lineplot(data = df_complete, x='year', y='private_ports', label='Private Ports')\n",
    "sns.lineplot(data=df_complete, x='year', y='public_ports', label='Public Ports')\n",
    "sns.lineplot(data=df_complete, x='year', y='sales', label='Total Sales', linestyle=':')"
   ],
   "metadata": {
    "collapsed": false,
    "pycharm": {
     "name": "#%%\n"
    }
   }
  },
  {
   "cell_type": "code",
   "execution_count": 10,
   "outputs": [
    {
     "data": {
      "text/plain": "[Text(0.5, 22.0, 'Year'), Text(22.40625, 0.5, 'Count')]"
     },
     "execution_count": 10,
     "metadata": {},
     "output_type": "execute_result"
    }
   ],
   "source": [
    "ax.set_title('EV Ports ans Sales Over Time')\n",
    "ax.set(xlabel='Year', ylabel='Count')"
   ],
   "metadata": {
    "collapsed": false,
    "pycharm": {
     "name": "#%%\n"
    }
   }
  },
  {
   "cell_type": "code",
   "execution_count": 11,
   "outputs": [],
   "source": [
    "ax.legend(loc='upper left')"
   ],
   "metadata": {
    "collapsed": false,
    "pycharm": {
     "name": "#%%\n"
    }
   }
  },
  {
   "cell_type": "code",
   "execution_count": 13,
   "outputs": [],
   "source": [
    "plt.show()"
   ],
   "metadata": {
    "collapsed": false,
    "pycharm": {
     "name": "#%%\n"
    }
   }
  },
  {
   "cell_type": "code",
   "execution_count": null,
   "outputs": [],
   "source": [],
   "metadata": {
    "collapsed": false,
    "pycharm": {
     "name": "#%%\n"
    }
   }
  }
 ],
 "metadata": {
  "colab": {
   "name": "Welcome to DataCamp Workspaces.ipynb",
   "provenance": []
  },
  "kernelspec": {
   "display_name": "Python 3 (ipykernel)",
   "language": "python",
   "name": "python3"
  },
  "language_info": {
   "codemirror_mode": {
    "name": "ipython",
    "version": 3
   },
   "file_extension": ".py",
   "mimetype": "text/x-python",
   "name": "python",
   "nbconvert_exporter": "python",
   "pygments_lexer": "ipython3",
   "version": "3.8.10"
  }
 },
 "nbformat": 4,
 "nbformat_minor": 5
}